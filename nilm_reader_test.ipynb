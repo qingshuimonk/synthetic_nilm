{
 "cells": [
  {
   "cell_type": "markdown",
   "metadata": {},
   "source": [
    "# Nilm Reader Unit Tests"
   ]
  },
  {
   "cell_type": "code",
   "execution_count": 1,
   "metadata": {
    "collapsed": true
   },
   "outputs": [],
   "source": [
    "from nilm_reader import nilm_reader\n",
    "import matplotlib.pyplot as plt\n",
    "%matplotlib inline\n",
    "from nilm_utils import *"
   ]
  },
  {
   "cell_type": "code",
   "execution_count": 2,
   "metadata": {
    "collapsed": false
   },
   "outputs": [],
   "source": [
    "DATA_DIR = ('data/ukdale/house_1')"
   ]
  },
  {
   "cell_type": "markdown",
   "metadata": {},
   "source": [
    "### Read Data"
   ]
  },
  {
   "cell_type": "code",
   "execution_count": 3,
   "metadata": {
    "collapsed": false
   },
   "outputs": [],
   "source": [
    "reader = nilm_reader(DATA_DIR)\n",
    "reader.load_meter('office_lamp')\n",
    "reader.load_meter('fridge')"
   ]
  },
  {
   "cell_type": "code",
   "execution_count": 4,
   "metadata": {
    "collapsed": false
   },
   "outputs": [
    {
     "data": {
      "text/plain": [
       "dict_keys([48, 49, 50])"
      ]
     },
     "execution_count": 4,
     "metadata": {},
     "output_type": "execute_result"
    }
   ],
   "source": [
    "reader.meters['office_lamp'].keys()"
   ]
  },
  {
   "cell_type": "code",
   "execution_count": 5,
   "metadata": {
    "collapsed": false
   },
   "outputs": [
    {
     "data": {
      "text/plain": [
       "1365707341    14\n",
       "1365707348    14\n",
       "1365707354    14\n",
       "1365707360    14\n",
       "1365707367    14\n",
       "dtype: int64"
      ]
     },
     "execution_count": 5,
     "metadata": {},
     "output_type": "execute_result"
    }
   ],
   "source": [
    "reader.meters['office_lamp'][48].head()"
   ]
  },
  {
   "cell_type": "code",
   "execution_count": 6,
   "metadata": {
    "collapsed": false
   },
   "outputs": [
    {
     "name": "stdout",
     "output_type": "stream",
     "text": [
      "office_lamp\n",
      "fridge\n"
     ]
    }
   ],
   "source": [
    "for i in reader.meters:\n",
    "    print(i)"
   ]
  },
  {
   "cell_type": "markdown",
   "metadata": {},
   "source": [
    "### Meter Stats"
   ]
  },
  {
   "cell_type": "code",
   "execution_count": 7,
   "metadata": {
    "collapsed": false
   },
   "outputs": [
    {
     "data": {
      "text/plain": [
       "{48: ['2013-04-12 03:09:01', '2017-04-27 01:35:12']}"
      ]
     },
     "execution_count": 7,
     "metadata": {},
     "output_type": "execute_result"
    }
   ],
   "source": [
    "reader.meter_stats('office_lamp', 48) # return specific single meter"
   ]
  },
  {
   "cell_type": "code",
   "execution_count": 8,
   "metadata": {
    "collapsed": false
   },
   "outputs": [
    {
     "data": {
      "text/plain": [
       "{48: ['2013-04-12 03:09:01', '2017-04-27 01:35:12'],\n",
       " 49: ['2013-04-12 03:09:02', '2017-04-27 01:35:19'],\n",
       " 50: ['2013-04-12 03:09:02', '2017-04-27 01:35:33']}"
      ]
     },
     "execution_count": 8,
     "metadata": {},
     "output_type": "execute_result"
    }
   ],
   "source": [
    "reader.meter_stats('office_lamp') # return all meters with same name"
   ]
  },
  {
   "cell_type": "code",
   "execution_count": 9,
   "metadata": {
    "collapsed": false
   },
   "outputs": [
    {
     "data": {
      "text/plain": [
       "{48: ['2013-04-12 03:09:01', '2017-04-27 01:35:12']}"
      ]
     },
     "execution_count": 9,
     "metadata": {},
     "output_type": "execute_result"
    }
   ],
   "source": [
    "reader.meter_stats(meter_num=48) # only give meter num"
   ]
  },
  {
   "cell_type": "code",
   "execution_count": 10,
   "metadata": {
    "collapsed": false
   },
   "outputs": [
    {
     "data": {
      "text/plain": [
       "{12: ['2012-12-15 06:21:38', '2017-04-27 01:32:51'],\n",
       " 48: ['2013-04-12 03:09:01', '2017-04-27 01:35:12'],\n",
       " 49: ['2013-04-12 03:09:02', '2017-04-27 01:35:19'],\n",
       " 50: ['2013-04-12 03:09:02', '2017-04-27 01:35:33']}"
      ]
     },
     "execution_count": 10,
     "metadata": {},
     "output_type": "execute_result"
    }
   ],
   "source": [
    "reader.meter_stats() # return stats of all meters"
   ]
  },
  {
   "cell_type": "markdown",
   "metadata": {},
   "source": [
    "### Truncate Meters"
   ]
  },
  {
   "cell_type": "code",
   "execution_count": 11,
   "metadata": {
    "collapsed": true
   },
   "outputs": [],
   "source": [
    "reader.truncate_meter(1365707341, 1365707528, 'office_lamp', 48)"
   ]
  },
  {
   "cell_type": "code",
   "execution_count": 12,
   "metadata": {
    "collapsed": false
   },
   "outputs": [
    {
     "data": {
      "text/plain": [
       "1365707341    14\n",
       "1365707348    14\n",
       "1365707354    14\n",
       "1365707360    14\n",
       "1365707367    14\n",
       "1365707373    14\n",
       "1365707380    14\n",
       "1365707387    14\n",
       "1365707393    14\n",
       "1365707399    14\n",
       "1365707405    14\n",
       "1365707412    14\n",
       "1365707418    14\n",
       "1365707425    14\n",
       "1365707432    14\n",
       "1365707438    14\n",
       "1365707445    14\n",
       "1365707451    14\n",
       "1365707457    14\n",
       "1365707464    14\n",
       "1365707470    14\n",
       "1365707476    14\n",
       "1365707483    14\n",
       "1365707489    14\n",
       "1365707495    14\n",
       "1365707502    14\n",
       "1365707509    14\n",
       "1365707515    14\n",
       "1365707522    14\n",
       "1365707528    14\n",
       "dtype: int64"
      ]
     },
     "execution_count": 12,
     "metadata": {},
     "output_type": "execute_result"
    }
   ],
   "source": [
    "reader.meters['office_lamp'][48]"
   ]
  },
  {
   "cell_type": "markdown",
   "metadata": {},
   "source": [
    "### Plot Meter"
   ]
  },
  {
   "cell_type": "code",
   "execution_count": 22,
   "metadata": {
    "collapsed": false
   },
   "outputs": [
    {
     "data": {
      "image/png": "[encoded data removed]",
      "text/plain": [
       "<matplotlib.figure.Figure at 0x1c7007860>"
      ]
     },
     "metadata": {},
     "output_type": "display_data"
    }
   ],
   "source": [
    "reader.plot_meters(app_name='fridge', meter_num=12) # plot single meter in whole time scope"
   ]
  },
  {
   "cell_type": "code",
   "execution_count": 14,
   "metadata": {
    "collapsed": true
   },
   "outputs": [],
   "source": [
    "lb = datestring2ts('1/02/2017')\n",
    "ub = datestring2ts('8/02/2017')"
   ]
  },
  {
   "cell_type": "code",
   "execution_count": 15,
   "metadata": {
    "collapsed": false
   },
   "outputs": [
    {
     "data": {
      "image/png": "[encoded data removed]",
      "text/plain": [
       "<matplotlib.figure.Figure at 0x11405a0f0>"
      ]
     },
     "metadata": {},
     "output_type": "display_data"
    }
   ],
   "source": [
    "reader.plot_meters(lb, ub, app_name='office_lamp', meter_num=49) # plot single meter in given time window\n",
    "plt.legend()\n",
    "plt.show()"
   ]
  },
  {
   "cell_type": "code",
   "execution_count": 16,
   "metadata": {
    "collapsed": false
   },
   "outputs": [
    {
     "data": {
      "image/png": "[encoded data removed]",
      "text/plain": [
       "<matplotlib.figure.Figure at 0x10bf7ea90>"
      ]
     },
     "metadata": {},
     "output_type": "display_data"
    }
   ],
   "source": [
    "reader.plot_meters(lb, ub, app_name='office_lamp') # plot all meters with same name in same window\n",
    "plt.legend()\n",
    "plt.show()"
   ]
  },
  {
   "cell_type": "code",
   "execution_count": 17,
   "metadata": {
    "collapsed": false
   },
   "outputs": [
    {
     "data": {
      "image/png": "[encoded data removed]",
      "text/plain": [
       "<matplotlib.figure.Figure at 0x1c70270b8>"
      ]
     },
     "metadata": {},
     "output_type": "display_data"
    }
   ],
   "source": [
    "reader.plot_meters(lb, ub) # plot all meters in same window\n",
    "plt.legend()\n",
    "plt.show()"
   ]
  },
  {
   "cell_type": "markdown",
   "metadata": {
    "collapsed": true
   },
   "source": [
    "### Batch Reader"
   ]
  },
  {
   "cell_type": "code",
   "execution_count": 18,
   "metadata": {
    "collapsed": true
   },
   "outputs": [],
   "source": [
    "c = reader.read_single_meter('office_lamp', 48, 6, 4)"
   ]
  },
  {
   "cell_type": "code",
   "execution_count": 19,
   "metadata": {
    "collapsed": false
   },
   "outputs": [
    {
     "data": {
      "text/plain": [
       "<generator object nilm_reader.read_single_meter at 0x10bf72e60>"
      ]
     },
     "execution_count": 19,
     "metadata": {},
     "output_type": "execute_result"
    }
   ],
   "source": [
    "c"
   ]
  },
  {
   "cell_type": "code",
   "execution_count": 20,
   "metadata": {
    "collapsed": false
   },
   "outputs": [
    {
     "name": "stdout",
     "output_type": "stream",
     "text": [
      "[14 14 14 14 14 14]\n",
      "[14 14 14 14 14 14]\n",
      "[14 14 14 14 14 14]\n",
      "[14 14 14 14 14 14]\n",
      "[14 14 14 14 14 14]\n",
      "[14 14 14 14 14 14]\n",
      "[14 14 14 14 14 14]\n",
      "[14 14 14 14 14 14]\n",
      "[14 14 14 14 14 14]\n",
      "[14 14 14 14 14 14]\n",
      "[14 14 14 14 14 14]\n",
      "[14 14 14 14 14 14]\n",
      "[14 14 14 14 14 14]\n"
     ]
    }
   ],
   "source": [
    "for i in c:\n",
    "    print(i)"
   ]
  },
  {
   "cell_type": "code",
   "execution_count": 21,
   "metadata": {
    "collapsed": false
   },
   "outputs": [
    {
     "name": "stdout",
     "output_type": "stream",
     "text": [
      "[array([14, 14, 14, 14, 14, 14]), array([14, 14, 14, 14, 14, 14]), array([14, 14, 14, 14, 14, 14]), array([14, 14, 14, 14, 14, 14]), array([14, 14, 14, 14, 14, 14])]\n",
      "[array([14, 14, 14, 14, 14, 14]), array([14, 14, 14, 14, 14, 14]), array([14, 14, 14, 14, 14, 14]), array([14, 14, 14, 14, 14, 14]), array([14, 14, 14, 14, 14, 14])]\n",
      "[array([14, 14, 14, 14, 14, 14]), array([14, 14, 14, 14, 14, 14]), array([14, 14, 14, 14, 14, 14])]\n"
     ]
    }
   ],
   "source": [
    "for batch in reader.read_batch(reader.read_single_meter('office_lamp', 48, 6, 4), 5):\n",
    "    print(batch)"
   ]
  },
  {
   "cell_type": "code",
   "execution_count": null,
   "metadata": {
    "collapsed": true
   },
   "outputs": [],
   "source": []
  }
 ],
 "metadata": {
  "anaconda-cloud": {},
  "kernelspec": {
   "display_name": "Python [conda env:tensorflow]",
   "language": "python",
   "name": "conda-env-tensorflow-py"
  },
  "language_info": {
   "codemirror_mode": {
    "name": "ipython",
    "version": 3
   },
   "file_extension": ".py",
   "mimetype": "text/x-python",
   "name": "python",
   "nbconvert_exporter": "python",
   "pygments_lexer": "ipython3",
   "version": "3.6.1"
  }
 },
 "nbformat": 4,
 "nbformat_minor": 1
}
